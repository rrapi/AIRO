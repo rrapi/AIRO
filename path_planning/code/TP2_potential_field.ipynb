{
 "cells": [
  {
   "cell_type": "markdown",
   "id": "334984eb",
   "metadata": {},
   "source": [
    "**TRABALHO PRATICO 2** \n",
    "\n",
    "**Franci Rrapi (UFMG - 2021/1)**"
   ]
  },
  {
   "cell_type": "markdown",
   "id": "f4814ac1",
   "metadata": {},
   "source": [
    "**2) POTENTIAL FIELD ALGORITHM**"
   ]
  },
  {
   "cell_type": "markdown",
   "id": "09b404b9",
   "metadata": {},
   "source": [
    "**IMPLEMENTATION and TESTS**\n",
    "\n",
    "Below is the implementation of this algorithm and you can find also the image tests made (they are also saved and available in the same folder of the notebook)"
   ]
  },
  {
   "cell_type": "code",
   "execution_count": 83,
   "id": "4e16c22d",
   "metadata": {},
   "outputs": [],
   "source": [
    "try:\n",
    "    import sim\n",
    "except:\n",
    "    print ('--------------------------------------------------------------')\n",
    "    print ('\"sim.py\" could not be imported. This means very probably that')\n",
    "    print ('either \"sim.py\" or the remoteApi library could not be found.')\n",
    "    print ('Make sure both are in the same folder as this file,')\n",
    "    print ('or appropriately adjust the file \"sim.py\"')\n",
    "    print ('--------------------------------------------------------------')\n",
    "    print ('')\n",
    "\n",
    "import numpy as np\n",
    "\n",
    "def Rz(theta):\n",
    "  \n",
    "    return np.array([[ np.cos(theta), -np.sin(theta), 0 ],\n",
    "                      [ np.sin(theta), np.cos(theta) , 0 ],\n",
    "                      [ 0            , 0             , 1 ]])"
   ]
  },
  {
   "cell_type": "code",
   "execution_count": 84,
   "id": "e9054f13",
   "metadata": {},
   "outputs": [],
   "source": [
    "import numpy as np\n",
    "import matplotlib.pyplot as plt\n",
    "import random\n",
    "import math\n",
    "import matplotlib.patches as patches\n",
    "\n",
    "WORLDX, WORLDY = 10, 6"
   ]
  },
  {
   "cell_type": "code",
   "execution_count": 85,
   "id": "e6f52812",
   "metadata": {},
   "outputs": [],
   "source": [
    "# Retorna um vetor com duas colunas: [angulo, dist]\n",
    "def format_laser_data(range_data, scan_range, step_size, max_sensor_range=5):\n",
    "\n",
    "    laser_data = []\n",
    "\n",
    "    range_data = np.asarray(range_data)\n",
    "    pts = math.floor(scan_range/step_size)\n",
    "    \n",
    "    # Rotacionando 90 graus\n",
    "    angle =- scan_range*0.5\n",
    "    for i in range(pts):\n",
    "        \n",
    "        dist = range_data[i]        \n",
    "        if dist <= 0:\n",
    "             dist = max_sensor_range\n",
    "        \n",
    "        laser_data.append([angle, dist])\n",
    "            \n",
    "        angle=angle+step_size\n",
    "        \n",
    "    return np.array(laser_data)\n",
    "    "
   ]
  },
  {
   "cell_type": "markdown",
   "id": "23db3eab",
   "metadata": {},
   "source": [
    "Attraction force and repulsion force for more obstacles"
   ]
  },
  {
   "cell_type": "code",
   "execution_count": 86,
   "id": "01984a32",
   "metadata": {},
   "outputs": [],
   "source": [
    "def att_force(q, goal, katt=.01):\n",
    "    return katt*(goal - q)"
   ]
  },
  {
   "cell_type": "code",
   "execution_count": 87,
   "id": "75cc0e49",
   "metadata": {},
   "outputs": [],
   "source": [
    "def rep_force(q, laser_data, R=7, krep=.1):\n",
    "#     krep = 0.005\n",
    "\n",
    "    rep_forces = np.array([0,0]) \n",
    "    q_rob = np.array([q[0], q[1]])\n",
    "    qq=np.array([0,0])\n",
    "        \n",
    "    for i in range(len(laser_data)):\n",
    "        ang, dist = laser_data[i]\n",
    "        if dist < max_sensor_range:\n",
    "            x = dist * np.cos(ang)\n",
    "            y = dist * np.sin(ang)\n",
    "            q_obs = np.array([x, y])\n",
    "            \n",
    "            v = q_rob - q_obs\n",
    "\n",
    "            rep = (1/dist**2)*((1/dist)-(1/R))*(v/dist) \n",
    "            \n",
    "            rep_forces = rep_forces + rep\n",
    "    \n",
    "    return (krep * rep_forces)"
   ]
  },
  {
   "cell_type": "code",
   "execution_count": 97,
   "id": "65f4e975",
   "metadata": {},
   "outputs": [
    {
     "name": "stdout",
     "output_type": "stream",
     "text": [
      "Program started\n",
      "Connected to remote API server\n",
      "Program ended\n"
     ]
    }
   ],
   "source": [
    "####################################################################################\n",
    "#                                                                                  #\n",
    "#                             CoppeliaSim needed first!                            #\n",
    "#                                                                                  #\n",
    "####################################################################################\n",
    "\n",
    "print ('Program started')\n",
    "sim.simxFinish(-1) # just in case, close all opened connections\n",
    "clientID=sim.simxStart('127.0.0.1',19999,True,True,5000,5) # Connect to CoppeliaSim\n",
    "\n",
    "if clientID!=-1:\n",
    "    print ('Connected to remote API server')\n",
    "\n",
    "    # Handle para o ROBÔ    \n",
    "    robotname = 'Pioneer_p3dx'\n",
    "    returnCode, robotHandle = sim.simxGetObjectHandle(clientID, robotname, sim.simx_opmode_oneshot_wait)\n",
    "    \n",
    "    # Handle para as juntas das RODAS\n",
    "    returnCode, l_wheel = sim.simxGetObjectHandle(clientID, robotname + '_leftMotor', sim.simx_opmode_oneshot_wait)\n",
    "    returnCode, r_wheel = sim.simxGetObjectHandle(clientID, robotname + '_rightMotor', sim.simx_opmode_oneshot_wait)\n",
    "    \n",
    "    returnCode, goalHandle = sim.simxGetObjectHandle(clientID, \"Goal\", sim.simx_opmode_oneshot_wait)\n",
    "   \n",
    "    # Handle para os dados do LASER\n",
    "    laser_data_name = \"hokuyo_range_data\"\n",
    "    \n",
    "    \n",
    "    # Geralmente a primeira leitura é inválida (atenção ao Operation Mode)\n",
    "    # Em loop até garantir que as leituras serão válidas\n",
    "    returnCode = 1\n",
    "    while returnCode != 0:\n",
    "        returnCode, range_data = sim.simxGetStringSignal(clientID, laser_data_name, sim.simx_opmode_streaming + 10)\n",
    "\n",
    "    path = []\n",
    "     \n",
    "    returnCode, pos = sim.simxGetObjectPosition(clientID, robotHandle, -1, sim.simx_opmode_oneshot_wait)\n",
    "    returnCode, ori = sim.simxGetObjectOrientation(clientID, robotHandle, -1, sim.simx_opmode_oneshot_wait)\n",
    "    qstart = np.array([pos[0], pos[1], ori[2]])\n",
    "    \n",
    "    returnCode, pos = sim.simxGetObjectPosition(clientID, goalHandle, -1, sim.simx_opmode_oneshot_wait)\n",
    "    returnCode, ori = sim.simxGetObjectOrientation(clientID, goalHandle, -1, sim.simx_opmode_oneshot_wait)\n",
    "    \n",
    "    goal_angle = np.arctan2(pos[1]-qstart[1], pos[0] - qstart[0])\n",
    "    qgoal = np.array([pos[0], pos[1], goal_angle])\n",
    "          \n",
    "    # Frame que representa o Goal\n",
    "#     returnCode, goalFrame = sim.simxGetObjectHandle(clientID, 'Goal', sim.simx_opmode_oneshot_wait)     \n",
    "#     returnCode = sim.simxSetObjectPosition(clientID, goalFrame, -1, [qgoal[0], qgoal[1], 0.1638], sim.simx_opmode_oneshot_wait)\n",
    "#     returnCode = sim.simxSetObjectOrientation(clientID, goalFrame, -1, [0, 0, qgoal[2]], sim.simx_opmode_oneshot_wait)\n",
    "\n",
    "    \n",
    "    scan_range = 180*np.pi/180\n",
    "    step_size = 2*np.pi/1024\n",
    "    \n",
    "\n",
    "    max_sensor_range=7\n",
    "   \n",
    "    \n",
    "    # Específico do robô\n",
    "    # https://www.generationrobots.com/media/Pioneer3DX-P3DX-RevA.pdf\n",
    "    L = 0.381\n",
    "    r = 0.0975\n",
    "    maxv = 1.0\n",
    "    maxw = np.deg2rad(45)\n",
    "    \n",
    "    \n",
    "    rho = np.inf\n",
    "    while rho > 0.5:\n",
    "        \n",
    "        returnCode, pos = sim.simxGetObjectPosition(clientID, robotHandle, -1, sim.simx_opmode_oneshot_wait)\n",
    "        returnCode, ori = sim.simxGetObjectOrientation(clientID, robotHandle, -1, sim.simx_opmode_oneshot_wait)\n",
    "        path.append((pos[0],pos[1]))\n",
    "        robotConfig = np.array([pos[0], pos[1], ori[2]])\n",
    "        \n",
    "        \n",
    "        goal_angle = np.arctan2(qgoal[1]-robotConfig[1], qgoal[0] - robotConfig[0])\n",
    "        qgoal = np.array([qgoal[0], qgoal[1], goal_angle])\n",
    "        \n",
    "        dx, dy = qgoal[:2] - robotConfig[:2]\n",
    "                     \n",
    "        # Apenas para interromper o loop\n",
    "        rho = np.sqrt(dx**2 + dy**2)\n",
    "                     \n",
    "        \n",
    "         # Prosseguindo com as leituras\n",
    "        returnCode, string_range_data = sim.simxGetStringSignal(clientID, laser_data_name, sim.simx_opmode_oneshot_wait)\n",
    "        raw_range_data = sim.simxUnpackFloats(string_range_data)\n",
    "        laser_data = format_laser_data(raw_range_data, scan_range, step_size)\n",
    "        \n",
    "        \n",
    "        Fatt = att_force(robotConfig, qgoal)\n",
    "    \n",
    "        Frep = rep_force2(robotConfig,laser_data)\n",
    "        \n",
    "        # Total force\n",
    "        Ft = Fatt + Frep\n",
    "        \n",
    "        \n",
    "#         Ft_x = Ft[:,0]\n",
    "#         Ft_y = Ft[:,1]\n",
    "        Ft_x = Ft[0]\n",
    "        Ft_y = Ft[1]\n",
    "        \n",
    "        kr = 1\n",
    "        kt = 2\n",
    "        \n",
    "        v = kr*(Ft_x*np.cos(robotConfig[2]) + Ft_y*np.sin(robotConfig[2]))\n",
    "        w = kt*(np.arctan2(Ft_x,Ft_y) - robotConfig[2])\n",
    "                \n",
    "        # Limit v,w to +/- max\n",
    "        v = max(min(v, maxv), -maxv)\n",
    "        w = max(min(w, maxw), -maxw)        \n",
    "        \n",
    "        vr = ((2.0*v) + (w*L))/(2.0*r)\n",
    "        vl = ((2.0*v) - (w*L))/(2.0*r)\n",
    "        \n",
    "        sim.simxSetJointTargetVelocity(clientID, r_wheel, vr, sim.simx_opmode_oneshot_wait)\n",
    "        sim.simxSetJointTargetVelocity(clientID, l_wheel, vl, sim.simx_opmode_oneshot_wait)\n",
    "    \n",
    "    # Parando o robô    \n",
    "    sim.simxSetJointTargetVelocity(clientID, r_wheel, 0, sim.simx_opmode_oneshot_wait)\n",
    "    sim.simxSetJointTargetVelocity(clientID, l_wheel, 0, sim.simx_opmode_oneshot_wait)        \n",
    "       \n",
    "    # Parando a simulação     \n",
    "    sim.simxStopSimulation(clientID,sim.simx_opmode_blocking)         \n",
    "        \n",
    "    # Now close the connection to CoppeliaSim:\n",
    "    sim.simxFinish(clientID)\n",
    "    \n",
    "else:\n",
    "    print ('Failed connecting to remote API server')\n",
    "    \n",
    "print ('Program ended')"
   ]
  },
  {
   "cell_type": "code",
   "execution_count": 96,
   "id": "f4fa9210",
   "metadata": {},
   "outputs": [
    {
     "data": {
      "image/png": "[encoded data removed]",
      "text/plain": [
       "<Figure size 432x288 with 1 Axes>"
      ]
     },
     "metadata": {
      "needs_background": "light"
     },
     "output_type": "display_data"
    }
   ],
   "source": [
    "# print(path)\n",
    "x_val = [x[0] for x in path]\n",
    "y_val = [x[1] for x in path]\n",
    "\n",
    "plt.plot(x_val,y_val)\n",
    "plt.xlim(-2.5, 2.5)\n",
    "plt.ylim(-2.5, 2.5)\n",
    "plt.show()"
   ]
  },
  {
   "cell_type": "code",
   "execution_count": null,
   "id": "fd18bc8d",
   "metadata": {},
   "outputs": [],
   "source": []
  }
 ],
 "metadata": {
  "kernelspec": {
   "display_name": "Python 3",
   "language": "python",
   "name": "python3"
  },
  "language_info": {
   "codemirror_mode": {
    "name": "ipython",
    "version": 3
   },
   "file_extension": ".py",
   "mimetype": "text/x-python",
   "name": "python",
   "nbconvert_exporter": "python",
   "pygments_lexer": "ipython3",
   "version": "3.6.13"
  }
 },
 "nbformat": 4,
 "nbformat_minor": 5
}
